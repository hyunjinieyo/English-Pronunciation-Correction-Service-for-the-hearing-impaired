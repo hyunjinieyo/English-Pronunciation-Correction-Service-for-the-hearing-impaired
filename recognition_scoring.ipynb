{
  "nbformat": 4,
  "nbformat_minor": 0,
  "metadata": {
    "colab": {
      "name": "recognition_scoring_공유용.ipynb",
      "provenance": [],
      "collapsed_sections": [
        "UxDU430Wibsz"
      ]
    },
    "kernelspec": {
      "name": "python3",
      "display_name": "Python 3"
    },
    "language_info": {
      "name": "python"
    },
    "gpuClass": "standard"
  },
  "cells": [
    {
      "cell_type": "markdown",
      "source": [
        "# 1. package 설치"
      ],
      "metadata": {
        "id": "idP-xrYn9srW"
      }
    },
    {
      "cell_type": "code",
      "source": [
        "! pip install librosa\n",
        "! pip install pydub\n",
        "!pip install noisereduce\n",
        "!pip install transformers\n",
        "!pip install phonemizer\n",
        "!pip install dtw-python\n",
        "\n",
        "!pip install py-espeak-ng\n",
        "!sudo apt-get install python-espeak\n",
        "!sudo apt-get update && sudo apt-get install espeak"
      ],
      "metadata": {
        "id": "OrH4N01c90w9"
      },
      "execution_count": null,
      "outputs": []
    },
    {
      "cell_type": "code",
      "source": [
        "# 구글 드라이브 mount\n",
        "from google.colab import drive\n",
        "drive.mount('/content/drive')"
      ],
      "metadata": {
        "colab": {
          "base_uri": "https://localhost:8080/"
        },
        "id": "yCSDx9VzB7-Q",
        "outputId": "a59ee72b-2faa-4cc1-fc7b-ecb82a250a21"
      },
      "execution_count": null,
      "outputs": [
        {
          "output_type": "stream",
          "name": "stdout",
          "text": [
            "Mounted at /content/drive\n"
          ]
        }
      ]
    },
    {
      "cell_type": "markdown",
      "source": [
        "# 2. 파일 확장자 변환 및 전처리"
      ],
      "metadata": {
        "id": "7W9XdrEDB8bZ"
      }
    },
    {
      "cell_type": "code",
      "source": [
        "# 전처리 코드\n",
        "from scipy.io import wavfile\n",
        "import noisereduce as nr\n",
        "import IPython\n",
        "import numpy as np\n",
        "import matplotlib.pyplot as plt\n",
        "from pydub import AudioSegment"
      ],
      "metadata": {
        "id": "pNr6pYxSCBCI"
      },
      "execution_count": null,
      "outputs": []
    },
    {
      "cell_type": "code",
      "source": [
        "# wav파일을 read하면서 ndarray가 2차원을 가지게 되는 경우도 생김\n",
        "## reduced_noise에 넣어 작업하려면 무조건 1차원으로 들어가야 함\n",
        "## 따라서 2차원 data가 생성되었을 때, 1차원으로 바꾸어주는 작업을 하는 메소드 생성\n",
        "\n",
        "class DimentionOverflow(Exception):\n",
        "    def __init__(self):\n",
        "      pass\n",
        "\n",
        "    def __str__(self):\n",
        "      return \"The dimention is greater than 2\"\n",
        "      \n",
        "# 2차원 => 1차원으로 바꿔주는 함수\n",
        "def convert_dim(data):\n",
        "  assert type(data) == np.ndarray, \"Data type is wrong\"\n",
        "  \n",
        "  if data.ndim == 1:\n",
        "    return data\n",
        "  \n",
        "  elif data.ndim == 2:\n",
        "    return data[:, 0]\n",
        "  \n",
        "  else:\n",
        "    raise DimentionOverflow\n",
        "\n",
        "# wav 변환 method\n",
        "def to_wav(file_path, file_name):\n",
        "    audSeg = AudioSegment.from_file(file_path)\n",
        "    audSeg.export(f\"{file_name}.wav\", format=\"wav\")\n",
        "    print(f'{file_name}.wav convert success!')\n",
        "\n",
        "# noise 제거 작업\n",
        "def reduce_noise(file_path, file_name):\n",
        "    rate, data = wavfile.read(file_path)\n",
        "    data_r = convert_dim(data)\n",
        "\n",
        "    reduced_noise = nr.reduce_noise(y=data_r, sr=rate)\n",
        "    wavfile.write(f\"{file_name}_reducednoise.wav\", rate, reduced_noise)"
      ],
      "metadata": {
        "id": "lMiQRNKaCG_3"
      },
      "execution_count": null,
      "outputs": []
    },
    {
      "cell_type": "code",
      "source": [
        "from pydub import AudioSegment\n",
        "\n",
        "# 파일 불러오기\n",
        "native = \"/content/drive/MyDrive/Vinsenjo/Sun/data/voice/voice_ryan.mp3\"\n",
        "speaker = \"/content/drive/MyDrive/Vinsenjo/Sun/data/voice/Speak.m4a\"\n",
        "\n",
        "# wav 변환                                                     \n",
        "to_wav(native, 'voice_ryan')\n",
        "to_wav(speaker, 'speak')\n"
      ],
      "metadata": {
        "colab": {
          "base_uri": "https://localhost:8080/"
        },
        "id": "CD8vGJXfCHjx",
        "outputId": "7b8acc5b-2944-4d3a-e311-797f2d4e15a5"
      },
      "execution_count": null,
      "outputs": [
        {
          "output_type": "stream",
          "name": "stdout",
          "text": [
            "voice_ryan.wav convert success!\n",
            "speak.wav convert success!\n"
          ]
        }
      ]
    },
    {
      "cell_type": "code",
      "source": [
        "# 데이터 로드\n",
        "path = \"/content/speak.wav\"\n",
        "\n",
        "# 발화자의 파일(speak.wav)의 noise reduce\n",
        "reduce_noise(path, \"speak\")"
      ],
      "metadata": {
        "id": "QC2SfcXUCJzB"
      },
      "execution_count": null,
      "outputs": []
    },
    {
      "cell_type": "markdown",
      "source": [
        "# 3. STT 및 Text -> phoneme 변환"
      ],
      "metadata": {
        "id": "EVOBTR6s_gTk"
      }
    },
    {
      "cell_type": "code",
      "source": [
        "# from transformers.models.wav2vec2_phoneme import tokenization_wav2vec2_phoneme\n",
        "from transformers import Wav2Vec2ForCTC, Wav2Vec2Tokenizer\n",
        "from phonemizer import phonemize\n",
        "import torch\n",
        "import librosa\n"
      ],
      "metadata": {
        "id": "b7aMmaNhdH5r"
      },
      "execution_count": null,
      "outputs": []
    },
    {
      "cell_type": "code",
      "source": [
        "# 음원 -> 음소\n",
        "def speak_to_phoneme(audio, tokenizer, model, is_stress=False):\n",
        "    assert type(audio) == np.ndarray\n",
        "    # 유저 발화 파일 tokenizer에 넣기\n",
        "    input_values = tokenizer(audio, return_tensors = \"pt\").input_values\n",
        "\n",
        "    # 모델을 통해 logit값 출력(non_normalized)\n",
        "    logits = model(input_values).logits\n",
        "\n",
        "    # argmax를 통해 가장 가능성 높은 logits 들을 예측 logits으로\n",
        "    prediction = torch.argmax(logits, dim = -1)\n",
        "\n",
        "    # decoeding해서 text로 변환\n",
        "    transcription = tokenizer.batch_decode(prediction)[0]\n",
        "\n",
        "    phoneme = text_to_phoneme(transcription, is_stress)\n",
        "    return transcription, phoneme\n",
        "\n",
        "\n",
        "# text -> 음소\n",
        "def text_to_phoneme(transcription, is_stress=False):\n",
        "    assert type(transcription) == str\n",
        "    # 라이브러리를 활용해서 phoneme 변환\n",
        "    phoneme = phonemize(transcription, with_stress=is_stress).rstrip()\n",
        "    return phoneme"
      ],
      "metadata": {
        "id": "d8s9TjVl4fgN"
      },
      "execution_count": null,
      "outputs": []
    },
    {
      "cell_type": "code",
      "source": [
        ""
      ],
      "metadata": {
        "id": "xvWH8hZbDdyI"
      },
      "execution_count": null,
      "outputs": []
    },
    {
      "cell_type": "code",
      "source": [
        "# model과 tokenizer pre-trained된 것 가져오기\n",
        "\n",
        "tokenizer = Wav2Vec2Tokenizer.from_pretrained(\"facebook/wav2vec2-base-960h\")\n",
        "model = Wav2Vec2ForCTC.from_pretrained(\"facebook/wav2vec2-base-960h\")"
      ],
      "metadata": {
        "colab": {
          "base_uri": "https://localhost:8080/"
        },
        "id": "c-EQYhaJDGXo",
        "outputId": "ea8262de-32c4-4065-bf1a-b4c790625dd6"
      },
      "execution_count": null,
      "outputs": [
        {
          "output_type": "stream",
          "name": "stderr",
          "text": [
            "The tokenizer class you load from this checkpoint is not the same type as the class this function is called from. It may result in unexpected tokenization. \n",
            "The tokenizer class you load from this checkpoint is 'Wav2Vec2CTCTokenizer'. \n",
            "The class this function is called from is 'Wav2Vec2Tokenizer'.\n",
            "/usr/local/lib/python3.7/dist-packages/transformers/models/wav2vec2/tokenization_wav2vec2.py:757: FutureWarning: The class `Wav2Vec2Tokenizer` is deprecated and will be removed in version 5 of Transformers. Please use `Wav2Vec2Processor` or `Wav2Vec2CTCTokenizer` instead.\n",
            "  FutureWarning,\n",
            "Some weights of Wav2Vec2ForCTC were not initialized from the model checkpoint at facebook/wav2vec2-base-960h and are newly initialized: ['wav2vec2.masked_spec_embed']\n",
            "You should probably TRAIN this model on a down-stream task to be able to use it for predictions and inference.\n"
          ]
        }
      ]
    },
    {
      "cell_type": "code",
      "source": [
        "# librosa를 통해 load\n",
        "ans, rate1 = librosa.load(\"/content/voice_ryan.wav\", sr = 16000)\n",
        "deaf, rate2 = librosa.load(\"/content/speak.wav\", sr = 16000)"
      ],
      "metadata": {
        "id": "a8jW2yWF7Bc5"
      },
      "execution_count": null,
      "outputs": []
    },
    {
      "cell_type": "code",
      "source": [
        "# 음소 변환 작업\n",
        "\n",
        "ans_transcription = \"Hello, my name is Ryan\"\n",
        "ans_phoneme = text_to_phoneme(ans_transcription, is_stress=False)\n",
        "\n",
        "print('정답')\n",
        "print(ans_transcription)\n",
        "print(ans_phoneme, end='\\n\\n')\n",
        "\n",
        "\n",
        "deaf_transcription, deaf_phoneme = speak_to_phoneme(deaf, tokenizer, model, is_stress=False)\n",
        "\n",
        "print('발화자')\n",
        "print(deaf_transcription)\n",
        "print(deaf_phoneme)"
      ],
      "metadata": {
        "id": "6aaJzvjfE4hX",
        "colab": {
          "base_uri": "https://localhost:8080/"
        },
        "outputId": "0b43be1e-a142-4e87-f92f-eb7855b3d7fc"
      },
      "execution_count": null,
      "outputs": [
        {
          "output_type": "stream",
          "name": "stdout",
          "text": [
            "정답\n",
            "Hello, my name is Ryan\n",
            "həloʊ maɪ neɪm ɪz ɹaɪən\n",
            "\n",
            "발화자\n",
            "HALLO MY NAME'S ARYON\n",
            "hæloʊ maɪ neɪmz ɑːɹɪən\n"
          ]
        }
      ]
    },
    {
      "cell_type": "code",
      "source": [
        "# # 시퀀스 `X[0…m-1]` 및 `Y[0…n-1]`의 가장 긴 공통 부분 문자열을 찾는 함수\n",
        "# def LCS(X, Y, m, n):\n",
        " \n",
        "#     maxLength = 0           #는 LCS의 최대 길이를 저장합니다.\n",
        "#     endingIndex = m         #는 `X`에 LCS의 끝 인덱스를 저장합니다.\n",
        " \n",
        "#     # `lookup[i][j]`는 하위 문자열 `X[0…i-1]` 및 `Y[0…j-1]`의 LCS 길이를 저장합니다.\n",
        "#     lookup = [[0 for x in range(n + 1)] for y in range(m + 1)]\n",
        " \n",
        "#     # 상향식 방식으로 조회 테이블 채우기\n",
        "#     for i in range(1, m + 1):\n",
        "#         for j in range(1, n + 1):\n",
        " \n",
        "#             # `X`와 `Y`의 현재 문자가 일치하는 경우\n",
        "#             if X[i - 1] == Y[j - 1]:\n",
        "#                 lookup[i][j] = lookup[i - 1][j - 1] + 1\n",
        " \n",
        "#                 #는 최대 길이와 끝 인덱스를 업데이트합니다.\n",
        "#                 if lookup[i][j] > maxLength:\n",
        "#                     maxLength = lookup[i][j]\n",
        "#                     endingIndex = i\n",
        "\n",
        "#     #는 길이가 `maxLength`인 가장 긴 공통 부분 문자열을 반환합니다.\n",
        "#     return X[endingIndex - maxLength: endingIndex]\n",
        " \n",
        "\n",
        "\n",
        "# X = ans_phonemes\n",
        "# Y = deaf_phonemes\n",
        "\n",
        "# m = len(X)\n",
        "# n = len(Y)\n",
        "\n",
        "# # 가장 긴 공통 부분 문자열 찾기\n",
        "# print('The longest common substring is', LCS(X, Y, m, n))"
      ],
      "metadata": {
        "id": "SdhN8K04LQ5h"
      },
      "execution_count": null,
      "outputs": []
    },
    {
      "cell_type": "code",
      "source": [
        "# LCS 알고리즘을 사용하여 두 string 중에서 겹치는 음소 subsequence 출력 용도\n",
        "def lcs_algo(S1, S2, m, n):\n",
        "    L = [[0 for x in range(n+1)] for x in range(m+1)]\n",
        "\n",
        "    # bottom-up 방식으로 matrix 쌇아감\n",
        "    for i in range(m+1):\n",
        "        for j in range(n+1):\n",
        "            if i == 0 or j == 0:\n",
        "                L[i][j] = 0\n",
        "            elif S1[i-1] == S2[j-1]:\n",
        "                L[i][j] = L[i-1][j-1] + 1\n",
        "            else:\n",
        "                L[i][j] = max(L[i-1][j], L[i][j-1])\n",
        "\n",
        "    index = L[m][n]\n",
        "\n",
        "    lcs_algo = [\"\"] * (index+1)\n",
        "    lcs_algo[index] = \"\"\n",
        "\n",
        "    i = m\n",
        "    j = n\n",
        "    while i > 0 and j > 0:\n",
        "\n",
        "        if S1[i-1] == S2[j-1]:\n",
        "            lcs_algo[index-1] = S1[i-1]\n",
        "            i -= 1\n",
        "            j -= 1\n",
        "            index -= 1\n",
        "\n",
        "        elif L[i-1][j] > L[i][j-1]:\n",
        "            i -= 1\n",
        "        else:\n",
        "            j -= 1\n",
        "            \n",
        "    #  subsequences 출력\n",
        "    print(\"S1 : \" + S1 + \"\\nS2 : \" + S2)\n",
        "\n",
        "    lcs = \"\".join(lcs_algo)\n",
        "    print(\"LCS: \" + lcs)\n",
        "\n",
        "    return lcs\n",
        "\n",
        "# 정확도 및 score 반환\n",
        "def calculate_acc(ans, lcs):\n",
        "    accuracy = int(len(lcs) / len(ans) * 100)\n",
        "    score = \"\"\n",
        "\n",
        "    # 일단 단계는 임의로 둠\n",
        "    if accuracy == 100:\n",
        "        score = \"Perfect\"\n",
        "    elif accuracy >= 80:\n",
        "        score = \"Great\"\n",
        "    elif accuracy >= 60:\n",
        "        score == \"Good\"\n",
        "    else:\n",
        "        score == \"Try Again\"\n",
        "\n",
        "    return accuracy, score\n",
        "\n",
        "# 정답 음소와 발화자의 음소 중, 일치하는 음소 구분해서 출력해주는 함수\n",
        "def highlight(ans, lcs):\n",
        "    \n",
        "  # answer phonemes중에 틀린것은 0, 일치하는 것은 1로 두어, 0인것은 나중에 틀린것 표시하기 위함\n",
        "  correct = [[i, 0] for i in ans]\n",
        "  idx=0\n",
        "\n",
        "  # lcs에서 하니씩 음소를 가져와서 answer과 비교함\n",
        "  ## 일치하면 correct의 해당 음소의 값을 0에서 1로\n",
        "  for char in lcs:\n",
        "      while idx < len(ans):\n",
        "          tmp = ans[idx]\n",
        "\n",
        "          if tmp == char:\n",
        "              correct[idx][1] = 1\n",
        "              idx += 1\n",
        "              break\n",
        "          idx += 1\n",
        "    \n",
        "  return correct"
      ],
      "metadata": {
        "id": "KHIxouHERABA"
      },
      "execution_count": null,
      "outputs": []
    },
    {
      "cell_type": "code",
      "source": [
        "S1 = ans_phoneme\n",
        "S2 = deaf_phoneme\n",
        "m = len(S1)\n",
        "n = len(S2)\n",
        "lcs = lcs_algo(S1, S2, m, n)"
      ],
      "metadata": {
        "colab": {
          "base_uri": "https://localhost:8080/"
        },
        "id": "sU4SrIHUMThs",
        "outputId": "4023eab1-03ad-4377-d30f-281e7e209f4e"
      },
      "execution_count": null,
      "outputs": [
        {
          "output_type": "stream",
          "name": "stdout",
          "text": [
            "S1 : həloʊ maɪ neɪm ɪz ɹaɪən\n",
            "S2 : hæloʊ maɪ neɪmz ɑːɹɪən\n",
            "LCS: hloʊ maɪ neɪmz ɹɪən\n"
          ]
        }
      ]
    },
    {
      "cell_type": "code",
      "source": [
        "print(S1)\n",
        "print(lcs)"
      ],
      "metadata": {
        "colab": {
          "base_uri": "https://localhost:8080/"
        },
        "id": "0RWVViXg_O6y",
        "outputId": "f17048e0-e549-42da-b820-a78fa8fe65ef"
      },
      "execution_count": null,
      "outputs": [
        {
          "output_type": "stream",
          "name": "stdout",
          "text": [
            "həloʊ maɪ neɪm ɪz ɹaɪən\n",
            "hloʊ maɪ neɪmz ɹɪən\n"
          ]
        }
      ]
    },
    {
      "cell_type": "code",
      "source": [
        "highlight(S1, lcs)"
      ],
      "metadata": {
        "colab": {
          "base_uri": "https://localhost:8080/"
        },
        "id": "a0z2VqoBAz7m",
        "outputId": "fe646a6d-4af0-482f-f5a4-314f9197db33"
      },
      "execution_count": null,
      "outputs": [
        {
          "output_type": "execute_result",
          "data": {
            "text/plain": [
              "[['h', 1],\n",
              " ['ə', 0],\n",
              " ['l', 1],\n",
              " ['o', 1],\n",
              " ['ʊ', 1],\n",
              " [' ', 1],\n",
              " ['m', 1],\n",
              " ['a', 1],\n",
              " ['ɪ', 1],\n",
              " [' ', 1],\n",
              " ['n', 1],\n",
              " ['e', 1],\n",
              " ['ɪ', 1],\n",
              " ['m', 1],\n",
              " [' ', 0],\n",
              " ['ɪ', 0],\n",
              " ['z', 1],\n",
              " [' ', 1],\n",
              " ['ɹ', 1],\n",
              " ['a', 0],\n",
              " ['ɪ', 1],\n",
              " ['ə', 1],\n",
              " ['n', 1]]"
            ]
          },
          "metadata": {},
          "execution_count": 103
        }
      ]
    },
    {
      "cell_type": "code",
      "source": [
        "calculate_acc(S1, lcs)"
      ],
      "metadata": {
        "colab": {
          "base_uri": "https://localhost:8080/"
        },
        "id": "dYVsaoE1-7IC",
        "outputId": "9a8f1069-b637-46db-e689-8a88a97e74ba"
      },
      "execution_count": null,
      "outputs": [
        {
          "output_type": "execute_result",
          "data": {
            "text/plain": [
              "(82, 'Great')"
            ]
          },
          "metadata": {},
          "execution_count": 89
        }
      ]
    },
    {
      "cell_type": "code",
      "source": [
        ""
      ],
      "metadata": {
        "id": "oEJSVikZ65ha"
      },
      "execution_count": null,
      "outputs": []
    },
    {
      "cell_type": "markdown",
      "source": [
        "# wave -> energy추출해서 rms함 (mel_spectrogram 활용하는 방법은 미완료)\n",
        "- 다음과 같이 pitch를 추출할 수 있지 않을까??"
      ],
      "metadata": {
        "id": "UxDU430Wibsz"
      }
    },
    {
      "cell_type": "code",
      "source": [
        "# rms 값 추출\n",
        "rms1 = librosa.feature.rms(ans)\n",
        "rms2 = librosa.feature.rms(deaf)\n"
      ],
      "metadata": {
        "id": "prJb2wWnNPAV"
      },
      "execution_count": null,
      "outputs": []
    },
    {
      "cell_type": "code",
      "source": [
        "print(rms1)\n",
        "print(rms2)\n",
        "print(rms1.shape, rms2.shape)"
      ],
      "metadata": {
        "colab": {
          "base_uri": "https://localhost:8080/"
        },
        "id": "oTN_UTF9PxzA",
        "outputId": "65ee35f2-ce32-4043-b4a5-8c3075a4a6e0"
      },
      "execution_count": null,
      "outputs": [
        {
          "output_type": "stream",
          "name": "stdout",
          "text": [
            "[[0.00203968 0.0067128  0.01032178 0.01091102 0.01152461 0.01096799\n",
            "  0.01103355 0.05072284 0.07122253 0.08421919 0.09647362 0.09710042\n",
            "  0.10971522 0.11995935 0.12544332 0.12900326 0.11566131 0.10121255\n",
            "  0.08597396 0.06441206 0.04866615 0.03352183 0.01954649 0.01477945\n",
            "  0.0150562  0.01705156 0.01866503 0.01878586 0.01875058 0.01706527\n",
            "  0.01471047 0.01971043 0.04354456 0.06557201 0.08102518 0.09158603\n",
            "  0.09359498 0.0900062  0.08877462 0.08838863 0.09045454 0.09255739\n",
            "  0.09484968 0.09857534 0.10064265 0.10543782 0.10480142 0.10650429\n",
            "  0.10621103 0.10004933 0.09411085 0.08025015 0.06416893 0.05110247\n",
            "  0.04309841 0.0517555  0.06784407 0.08193312 0.09269603 0.09693376\n",
            "  0.09518456 0.09113561 0.08640597 0.07723404 0.06786294 0.05608563\n",
            "  0.04380947 0.03570864 0.02721903 0.02243662 0.01639701 0.01338314\n",
            "  0.01176038 0.01062211 0.01162807]]\n",
            "[[0.00073582 0.00284634 0.00741056 0.00812109 0.00832278 0.00802477\n",
            "  0.00467688 0.0052097  0.01186728 0.01340196 0.01414921 0.01361367\n",
            "  0.0082929  0.00530174 0.00214758 0.00213645 0.00223931 0.00225494\n",
            "  0.00227755 0.00226439 0.00220701 0.00205472 0.00190206 0.00178587\n",
            "  0.00188603 0.00306052 0.00465078 0.00701255 0.02741631 0.04111173\n",
            "  0.05587805 0.06755937 0.07308993 0.07517426 0.07003675 0.06219176\n",
            "  0.05171677 0.04229606 0.03607478 0.0335163  0.02911058 0.02202321\n",
            "  0.01664323 0.00523057 0.00461891 0.00453729 0.01432562 0.01700407\n",
            "  0.02475985 0.02616374 0.02243239 0.03297484 0.0526213  0.07509361\n",
            "  0.09343049 0.10420264 0.10693754 0.10217474 0.09749416 0.09398093\n",
            "  0.09147306 0.09183159 0.09049708 0.08142506 0.06807849 0.05305837\n",
            "  0.03109498 0.02324282 0.03515111 0.0459946  0.05612577 0.06760896\n",
            "  0.07415261 0.0786222  0.0850645  0.08703554 0.08700599 0.08278642\n",
            "  0.07270704 0.06203131 0.04807686 0.03803506 0.03042577 0.02196545\n",
            "  0.01667863 0.01010954 0.00572863 0.00354783 0.00292812 0.00292485\n",
            "  0.00278728 0.00310722 0.00321176 0.00329317 0.00327885 0.01137118\n",
            "  0.01475542 0.01467632 0.01468336 0.00978183 0.00231109 0.00235097\n",
            "  0.002057   0.00185642 0.00203072 0.00191195 0.00181887 0.00166655\n",
            "  0.00162647 0.00202169 0.00222838 0.00227064 0.00219068 0.00195291\n",
            "  0.00214616 0.00224712 0.00230102 0.00225194 0.00194435 0.00186679\n",
            "  0.00184322 0.00214954 0.00243865 0.00243345 0.0025333  0.00243811\n",
            "  0.00230456]]\n",
            "(1, 75) (1, 127)\n"
          ]
        }
      ]
    },
    {
      "cell_type": "code",
      "source": [
        "import matplotlib.pyplot as plt\n",
        "fig, ax = plt.subplots(nrows=2, sharex=True)\n",
        "times = librosa.times_like(rms1)\n",
        "ax[0].semilogy(times, rms1[0], label='RMS Energy')\n",
        "ax[0].set(xticks=[])\n",
        "ax[0].legend()\n",
        "ax[0].label_outer()\n",
        "\n",
        "times = librosa.times_like(rms2)\n",
        "ax[1].semilogy(times, rms2[0], label='RMS Energy')\n",
        "ax[1].set(xticks=[])\n",
        "ax[1].legend()\n",
        "ax[1].label_outer()\n",
        "# librosa.specshow(librosa.amplitude_to_db(S, ref=np.max),\n",
        "#                          y_axis='log', x_axis='time', ax=ax[1])\n",
        "# ax[1].set(title='log Power spectrogram')"
      ],
      "metadata": {
        "colab": {
          "base_uri": "https://localhost:8080/",
          "height": 252
        },
        "id": "OOpxs-L9N2Nc",
        "outputId": "db649f10-a7d5-467f-ae1b-0427b28eaaa8"
      },
      "execution_count": null,
      "outputs": [
        {
          "output_type": "display_data",
          "data": {
            "text/plain": [
              "<Figure size 432x288 with 2 Axes>"
            ],
            "image/png": "[encoded data removed]"
          },
          "metadata": {
            "needs_background": "light"
          }
        }
      ]
    },
    {
      "cell_type": "code",
      "source": [
        "import dtw\n",
        "dtw.dtw(rms1.flatten(), rms2.flatten(), keep_internals=True).plot(type='twoway')"
      ],
      "metadata": {
        "colab": {
          "base_uri": "https://localhost:8080/",
          "height": 371
        },
        "id": "0zMkHmgaPCdr",
        "outputId": "751f3e77-2340-44f3-f05b-413768213fef"
      },
      "execution_count": null,
      "outputs": [
        {
          "output_type": "stream",
          "name": "stdout",
          "text": [
            "Importing the dtw module. When using in academic works please cite:\n",
            "  T. Giorgino. Computing and Visualizing Dynamic Time Warping Alignments in R: The dtw Package.\n",
            "  J. Stat. Soft., doi:10.18637/jss.v031.i07.\n",
            "\n"
          ]
        },
        {
          "output_type": "display_data",
          "data": {
            "text/plain": [
              "<Figure size 432x288 with 1 Axes>"
            ],
            "image/png": "[encoded data removed]"
          },
          "metadata": {
            "needs_background": "light"
          }
        },
        {
          "output_type": "execute_result",
          "data": {
            "text/plain": [
              "<matplotlib.axes._subplots.AxesSubplot at 0x7f79c9dd2b90>"
            ]
          },
          "metadata": {},
          "execution_count": 107
        }
      ]
    },
    {
      "cell_type": "code",
      "source": [
        "alignment = dtw.dtw(rms1.flatten(), rms2.flatten(), keep_internals=True)\n",
        "alignment\n"
      ],
      "metadata": {
        "colab": {
          "base_uri": "https://localhost:8080/"
        },
        "id": "_ic3poB0OFM0",
        "outputId": "290c5ce7-5ef5-4222-8d4f-a564337c0edc"
      },
      "execution_count": null,
      "outputs": [
        {
          "output_type": "execute_result",
          "data": {
            "text/plain": [
              "DTW alignment object of size (query x reference): 75 x 127"
            ]
          },
          "metadata": {},
          "execution_count": 108
        }
      ]
    },
    {
      "cell_type": "code",
      "source": [
        "def downsample(a, b):\n",
        "    a, b = a.flatten(), b.flatten()\n",
        "    if len(a) > len(b):\n",
        "        target, compare = a, b\n",
        "    else:\n",
        "        target, compare = b, a\n",
        "\n",
        "    sampled_list = []\n",
        "    window_size = len(target) - len(compare) + 1\n",
        "    for i in range(len(compare)):\n",
        "        tmp = np.mean(target[i:i+window_size])\n",
        "        sampled_list.append(tmp)\n",
        "        \n",
        "    return np.array(sampled_list)"
      ],
      "metadata": {
        "id": "AuzzdzlF8KTk"
      },
      "execution_count": null,
      "outputs": []
    },
    {
      "cell_type": "code",
      "source": [
        "import math\n",
        "\n",
        "# 두 개의 다른 signal 길이 맞춰주는 함수 고안\n",
        "def downsample(a, b):\n",
        "    a, b = a.flatten(), b.flatten()\n",
        "    if len(a) > len(b):\n",
        "        target, compare = a, b\n",
        "    else:\n",
        "        target, compare = b, a\n",
        "\n",
        "  # 정규화\n",
        "    norm = np.linalg.norm(target)\n",
        "    target = target/norm\n",
        "\n",
        "    norm = np.linalg.norm(compare)\n",
        "    compare = compare/norm\n",
        "\n",
        "    sampled_list = []\n",
        "    padding_size = int(len(target) / len(compare))\n",
        "    print(padding_size)\n",
        "    if padding_size > 1:\n",
        "        for i in range(0, len(target), padding_size):\n",
        "            tmp = np.mean( target[i:i+padding_size] )\n",
        "            sampled_list.append(tmp)\n",
        "    else:\n",
        "        per = np.percentile(target, 100 - len(compare)/len(target)*100)\n",
        "        print('percentile')\n",
        "        print(len(compare)/len(target))\n",
        "        print(per)\n",
        "        sampled_list = target[(target > per)]\n",
        "\n",
        "    return compare, np.array(sampled_list)"
      ],
      "metadata": {
        "id": "39yC---vAG2E"
      },
      "execution_count": null,
      "outputs": []
    },
    {
      "cell_type": "code",
      "source": [
        "a = np.array([1,2,3,4,5,6,7,8, 9, 10])\n",
        "b = np.array([1,2,3,4])\n",
        "\n",
        "new_rms1, new_rms2 = downsample(rms1, rms2)\n",
        "new_rms2.shape"
      ],
      "metadata": {
        "colab": {
          "base_uri": "https://localhost:8080/"
        },
        "id": "WI2IYVYu-eot",
        "outputId": "76c28539-dcbc-48bb-cbeb-ab7db9615a42"
      },
      "execution_count": null,
      "outputs": [
        {
          "output_type": "stream",
          "name": "stdout",
          "text": [
            "1\n",
            "percentile\n",
            "0.5905511811023622\n",
            "0.009956278926216242\n"
          ]
        },
        {
          "output_type": "execute_result",
          "data": {
            "text/plain": [
              "(75,)"
            ]
          },
          "metadata": {},
          "execution_count": 112
        }
      ]
    },
    {
      "cell_type": "code",
      "source": [
        "new_alignment = dtw.dtw(new_rms1.flatten(), new_rms2.flatten(), keep_internals=True)\n",
        "new_alignment.plot(type='twoway')"
      ],
      "metadata": {
        "colab": {
          "base_uri": "https://localhost:8080/",
          "height": 297
        },
        "id": "4jUC7dnN_YWl",
        "outputId": "2cd2f174-11c1-4eb7-d856-70dd177c0475"
      },
      "execution_count": null,
      "outputs": [
        {
          "output_type": "display_data",
          "data": {
            "text/plain": [
              "<Figure size 432x288 with 1 Axes>"
            ],
            "image/png": "[encoded data removed]"
          },
          "metadata": {
            "needs_background": "light"
          }
        },
        {
          "output_type": "execute_result",
          "data": {
            "text/plain": [
              "<matplotlib.axes._subplots.AxesSubplot at 0x7f79c708d250>"
            ]
          },
          "metadata": {},
          "execution_count": 113
        }
      ]
    },
    {
      "cell_type": "code",
      "source": [
        "new_alignment.normalizedDistance"
      ],
      "metadata": {
        "colab": {
          "base_uri": "https://localhost:8080/"
        },
        "id": "-D3QDil6OsRT",
        "outputId": "06f14b6c-495d-4c13-8b35-d8a1b09cd1c8"
      },
      "execution_count": null,
      "outputs": [
        {
          "output_type": "execute_result",
          "data": {
            "text/plain": [
              "0.010025264693734546"
            ]
          },
          "metadata": {},
          "execution_count": 114
        }
      ]
    },
    {
      "cell_type": "code",
      "source": [
        "new_rms2"
      ],
      "metadata": {
        "colab": {
          "base_uri": "https://localhost:8080/"
        },
        "id": "lK6zYAT3_sAk",
        "outputId": "ffef8f9b-d8bb-44b8-f9cf-583319bf0d5a"
      },
      "execution_count": null,
      "outputs": [
        {
          "output_type": "execute_result",
          "data": {
            "text/plain": [
              "array([0.01581194, 0.017328  , 0.01775836, 0.01712249, 0.00997909,\n",
              "       0.01111596, 0.02532126, 0.02859582, 0.03019023, 0.02904755,\n",
              "       0.01769459, 0.01131235, 0.01496271, 0.0584983 , 0.08772027,\n",
              "       0.11922725, 0.14415172, 0.15595229, 0.16039965, 0.14943773,\n",
              "       0.13269882, 0.1103483 , 0.09024729, 0.07697292, 0.07151387,\n",
              "       0.06211338, 0.04699102, 0.03551172, 0.01116048, 0.03056663,\n",
              "       0.03628165, 0.05283019, 0.0558257 , 0.04786409, 0.07035855,\n",
              "       0.11227829, 0.16022757, 0.19935304, 0.22233763, 0.2281731 ,\n",
              "       0.21801068, 0.2080237 , 0.20052752, 0.19517647, 0.19594146,\n",
              "       0.19309402, 0.17373699, 0.14525937, 0.11321089, 0.06634749,\n",
              "       0.0495933 , 0.07500207, 0.09813888, 0.1197558 , 0.14425753,\n",
              "       0.15821975, 0.16775653, 0.18150249, 0.18570812, 0.18564506,\n",
              "       0.17664175, 0.15513533, 0.13235648, 0.10258181, 0.08115558,\n",
              "       0.06491961, 0.04686777, 0.03558727, 0.02157078, 0.01222321,\n",
              "       0.02426273, 0.03148371, 0.03131492, 0.03132994, 0.02087154],\n",
              "      dtype=float32)"
            ]
          },
          "metadata": {},
          "execution_count": 115
        }
      ]
    },
    {
      "cell_type": "code",
      "source": [
        ""
      ],
      "metadata": {
        "id": "XJ2HjYM1MVuc"
      },
      "execution_count": null,
      "outputs": []
    }
  ]
}